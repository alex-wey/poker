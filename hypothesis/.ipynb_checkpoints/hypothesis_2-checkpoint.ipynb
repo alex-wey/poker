{
 "cells": [
  {
   "cell_type": "code",
   "execution_count": 2,
   "metadata": {},
   "outputs": [],
   "source": [
    "# first hand vs. last hand net gain"
   ]
  },
  {
   "cell_type": "code",
   "execution_count": null,
   "metadata": {},
   "outputs": [],
   "source": [
    "import sqlite3\n",
    "import pandas as pd\n",
    "import matplotlib.pyplot as plt\n",
    "import numpy as np\n",
    "from statsmodels.stats import weightstats as stests\n",
    "\n",
    "conn = sqlite3.connect('poker_updated.db')\n",
    "c = conn.cursor()"
   ]
  },
  {
   "cell_type": "code",
   "execution_count": 3,
   "metadata": {},
   "outputs": [
    {
     "name": "stdout",
     "output_type": "stream",
     "text": [
      "rows:  2397\n",
      "total_net_gain   -6.085269\n",
      "dtype: float64\n"
     ]
    }
   ],
   "source": [
    "net_gains = pd.read_sql_query('SELECT player_ID, SUM(net_gain) AS total_net_gain FROM Hands \\\n",
    "GROUP BY player_ID;', conn)\n",
    "print(\"rows: \", net_gains.shape[0])\n",
    "print(net_gains.mean(axis = 0))"
   ]
  },
  {
   "cell_type": "code",
   "execution_count": 4,
   "metadata": {},
   "outputs": [],
   "source": [
    "total_games = pd.read_sql_query('SELECT player_ID, COUNT(*) AS total_games FROM Hands \\\n",
    "    GROUP BY player_ID;', conn)\n",
    "summary = pd.merge(net_gains, total_games, on='player_ID')\n"
   ]
  },
  {
   "cell_type": "code",
   "execution_count": 5,
   "metadata": {},
   "outputs": [
    {
     "name": "stdout",
     "output_type": "stream",
     "text": [
      "291291\n"
     ]
    }
   ],
   "source": [
    "hands = pd.read_sql_query('SELECT game_ID, player_ID, net_gain FROM Hands \\\n",
    "                          ORDER BY game_ID;', conn)\n",
    "print(hands.shape[0])"
   ]
  },
  {
   "cell_type": "code",
   "execution_count": 6,
   "metadata": {},
   "outputs": [],
   "source": [
    "hands[\"appearence_id\"] = hands.groupby(\"player_ID\").cumcount()"
   ]
  },
  {
   "cell_type": "code",
   "execution_count": 12,
   "metadata": {},
   "outputs": [
    {
     "name": "stdout",
     "output_type": "stream",
     "text": [
      "          player_ID  total_net_gain  total_games  avg_first_hand_net_gain  \\\n",
      "0     !MushroomMan!           45.24           54                 0.000000   \n",
      "1              ....            4.25           83                17.000000   \n",
      "2             00MOD           -6.07           10                -3.000000   \n",
      "3          01001111          -13.37           22                 0.000000   \n",
      "4        0nlyDaNuts          126.79          260                -2.166667   \n",
      "5  1000_na_nl25_aga          -96.95          305                 0.000000   \n",
      "6          10071995           14.40           81                 0.000000   \n",
      "7         100stacks          -31.34           50                -3.600000   \n",
      "8        11-10-1964          -51.71           64                 0.000000   \n",
      "9         12monkeys          -29.41          242                 0.000000   \n",
      "\n",
      "   avg_last_hand_net_gain  avg_net_gain  \n",
      "0                     0.0      0.837778  \n",
      "1                     0.0      0.051205  \n",
      "2                     0.0     -0.607000  \n",
      "3                     0.0     -0.607727  \n",
      "4                    -3.0      0.487654  \n",
      "5                     0.0     -0.317869  \n",
      "6                     0.0      0.177778  \n",
      "7                     0.0     -0.626800  \n",
      "8                     2.0     -0.807969  \n",
      "9                     0.0     -0.121529  \n"
     ]
    }
   ],
   "source": [
    "avg_first_hand_net_gain = []\n",
    "avg_last_hand_net_gain = []\n",
    "\n",
    "#iterate through all players\n",
    "for player_row in summary.itertuples():\n",
    "    player_ID = player_row[1]\n",
    "    player_hands = hands[hands['player_ID'] == player_ID]\n",
    "    prev_hand_id = 0\n",
    "    prev_hand_net_gain = None\n",
    "    first_hand_net_gains = [] #net gains of all first hands\n",
    "    last_hand_net_gains = [] #net gains of all last hands\n",
    "    for hand_row in player_hands.itertuples():\n",
    "        game_ID = int(hand_row[1])\n",
    "        net_gain = int(hand_row[3])\n",
    "        if game_ID - prev_hand_id > 50000: #longer than 500 seconds\n",
    "            first_hand_net_gains.append(net_gain)\n",
    "            if prev_hand_net_gain:\n",
    "                last_hand_net_gains.append(prev_hand_net_gain)\n",
    "        prev_hand_id = game_ID\n",
    "        prev_hand_net_gain = net_gain\n",
    "    \n",
    "    avg_first_hand_net_gain.append(np.mean(first_hand_net_gains))\n",
    "    if last_hand_net_gains:\n",
    "        avg_last_hand_net_gain.append(np.mean(last_hand_net_gains))\n",
    "    else:\n",
    "        avg_last_hand_net_gain.append(net_gain)\n",
    "    \n",
    "summary['avg_first_hand_net_gain'] = avg_first_hand_net_gain\n",
    "summary['avg_last_hand_net_gain'] = avg_last_hand_net_gain\n",
    "summary['avg_net_gain'] = summary['total_net_gain']/summary['total_games']\n",
    "print(summary.head(10))"
   ]
  },
  {
   "cell_type": "code",
   "execution_count": 13,
   "metadata": {},
   "outputs": [
    {
     "data": {
      "text/plain": [
       "array([[<matplotlib.axes._subplots.AxesSubplot object at 0x1a254b1cf8>]],\n",
       "      dtype=object)"
      ]
     },
     "execution_count": 13,
     "metadata": {},
     "output_type": "execute_result"
    },
    {
     "data": {
      "image/png": "[encoded data removed]",
      "text/plain": [
       "<Figure size 432x288 with 1 Axes>"
      ]
     },
     "metadata": {
      "needs_background": "light"
     },
     "output_type": "display_data"
    },
    {
     "data": {
      "image/png": "[encoded data removed]",
      "text/plain": [
       "<Figure size 432x288 with 1 Axes>"
      ]
     },
     "metadata": {
      "needs_background": "light"
     },
     "output_type": "display_data"
    },
    {
     "data": {
      "image/png": "[encoded data removed]",
      "text/plain": [
       "<Figure size 432x288 with 1 Axes>"
      ]
     },
     "metadata": {
      "needs_background": "light"
     },
     "output_type": "display_data"
    }
   ],
   "source": [
    "summary.hist('avg_first_hand_net_gain')\n",
    "summary.hist('avg_last_hand_net_gain')\n",
    "summary.hist('avg_net_gain')"
   ]
  },
  {
   "cell_type": "code",
   "execution_count": 14,
   "metadata": {},
   "outputs": [
    {
     "data": {
      "text/plain": [
       "array([[<matplotlib.axes._subplots.AxesSubplot object at 0x1a224124e0>]],\n",
       "      dtype=object)"
      ]
     },
     "execution_count": 14,
     "metadata": {},
     "output_type": "execute_result"
    },
    {
     "data": {
      "image/png": "[encoded data removed]",
      "text/plain": [
       "<Figure size 432x288 with 1 Axes>"
      ]
     },
     "metadata": {
      "needs_background": "light"
     },
     "output_type": "display_data"
    },
    {
     "data": {
      "image/png": "[encoded data removed]",
      "text/plain": [
       "<Figure size 432x288 with 1 Axes>"
      ]
     },
     "metadata": {
      "needs_background": "light"
     },
     "output_type": "display_data"
    },
    {
     "data": {
      "image/png": "[encoded data removed]",
      "text/plain": [
       "<Figure size 432x288 with 1 Axes>"
      ]
     },
     "metadata": {
      "needs_background": "light"
     },
     "output_type": "display_data"
    }
   ],
   "source": [
    "summary.hist('avg_first_hand_net_gain', log=True)\n",
    "summary.hist('avg_last_hand_net_gain', log=True)\n",
    "summary.hist('avg_net_gain', log=True)"
   ]
  },
  {
   "cell_type": "code",
   "execution_count": 16,
   "metadata": {},
   "outputs": [
    {
     "name": "stdout",
     "output_type": "stream",
     "text": [
      "p-value:  1.8833480166685e-17\n"
     ]
    }
   ],
   "source": [
    "tstat, pval = stests.ztest(summary['avg_last_hand_net_gain'], summary['avg_net_gain'])\n",
    "print(\"p-value: \", pval)"
   ]
  },
  {
   "cell_type": "code",
   "execution_count": null,
   "metadata": {},
   "outputs": [],
   "source": []
  }
 ],
 "metadata": {
  "kernelspec": {
   "display_name": "Python 3",
   "language": "python",
   "name": "python3"
  },
  "language_info": {
   "codemirror_mode": {
    "name": "ipython",
    "version": 3
   },
   "file_extension": ".py",
   "mimetype": "text/x-python",
   "name": "python",
   "nbconvert_exporter": "python",
   "pygments_lexer": "ipython3",
   "version": "3.7.7"
  }
 },
 "nbformat": 4,
 "nbformat_minor": 2
}
